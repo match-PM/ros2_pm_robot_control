{
 "cells": [
  {
   "cell_type": "code",
   "execution_count": 2,
   "metadata": {},
   "outputs": [],
   "source": [
    "import subprocess\n",
    "\n",
    "def process_subprocess_ouput(subprocess_output):\n",
    "    output, error = subprocess_output.communicate()\n",
    "    # Decode the byte strings to regular strings (assuming UTF-8 encoding)\n",
    "    output = output.decode('utf-8')\n",
    "    error = error.decode('utf-8')\n",
    "    start_index = output.find(\"success=\")\n",
    "    end_index = output.find(\")\", start_index)\n",
    "    success_string = output[start_index + len(\"success=\"):end_index]\n",
    "    success = bool(success_string)\n",
    "    return success\n"
   ]
  },
  {
   "attachments": {},
   "cell_type": "markdown",
   "metadata": {},
   "source": [
    "Part Info"
   ]
  },
  {
   "cell_type": "code",
   "execution_count": 3,
   "metadata": {},
   "outputs": [],
   "source": [
    "parent_frame = 'world'\n",
    "cad_data = '//home/mll/Desktop/Gonio_Right_Stage_2_Upper.STL'"
   ]
  },
  {
   "attachments": {},
   "cell_type": "markdown",
   "metadata": {},
   "source": [
    "Spawn Object 1"
   ]
  },
  {
   "cell_type": "code",
   "execution_count": 32,
   "metadata": {},
   "outputs": [
    {
     "name": "stdout",
     "output_type": "stream",
     "text": [
      "ros2 service call /object_manager/spawn_object spawn_object_interfaces/srv/SpawnObject \"{obj_name: my_object_1, parent_frame: world , translation:[1.0,1.0,2.0], rotation:[0.0,0.0,0.0,1.0], cad_data: //home/mll/Desktop/Gonio_Right_Stage_2_Upper.STL}\"\n"
     ]
    },
    {
     "name": "stdout",
     "output_type": "stream",
     "text": [
      "requester: making request: spawn_object_interfaces.srv.SpawnObject_Request(obj_name='my_object_1', parent_frame='world', translation=array([1., 1., 2.], dtype=float32), rotation=array([0., 0., 0., 1.], dtype=float32), cad_data='//home/mll/Desktop/Gonio_Right_Stage_2_Upper.STL')\n",
      "\n",
      "response:\n",
      "spawn_object_interfaces.srv.SpawnObject_Response(success=True)\n",
      "\n"
     ]
    }
   ],
   "source": [
    "#service = '/object_publisher/spawn_object'\n",
    "service = '/object_manager/spawn_object'\n",
    "object_name = 'my_object_1'\n",
    "\n",
    "command=f'ros2 service call '\\\n",
    "+ service + ' '\\\n",
    "'spawn_object_interfaces/srv/SpawnObject '\\\n",
    "'\"{obj_name: '+object_name+', '\\\n",
    "'parent_frame: '+ parent_frame +' , '\\\n",
    "'translation:[1.0,1.0,2.0], '\\\n",
    "'rotation:[0.0,0.0,0.0,1.0], '\\\n",
    "'cad_data: '+cad_data+'}\"'\n",
    "\n",
    "print(str(command))\n",
    "\n",
    "process = subprocess.Popen(command, shell=True)"
   ]
  },
  {
   "attachments": {},
   "cell_type": "markdown",
   "metadata": {},
   "source": [
    "Spawn Object 2"
   ]
  },
  {
   "cell_type": "code",
   "execution_count": 33,
   "metadata": {},
   "outputs": [
    {
     "name": "stdout",
     "output_type": "stream",
     "text": [
      "Success: True\n"
     ]
    }
   ],
   "source": [
    "service = '/object_manager/spawn_object'\n",
    "object_name = 'my_object_2'\n",
    "\n",
    "command=f'ros2 service call '\\\n",
    "+ service + ' '\\\n",
    "'spawn_object_interfaces/srv/SpawnObject '\\\n",
    "'\"{obj_name: '+object_name+', '\\\n",
    "'parent_frame: '+ parent_frame +' , '\\\n",
    "'translation:[1.0,2.0,2.0], '\\\n",
    "'rotation:[0.0,0.0,0.0,1.0], '\\\n",
    "'cad_data: '+cad_data+'}\"'\n",
    "\n",
    "#print(str(command))\n",
    "\n",
    "process = subprocess.Popen(command, shell=True, stdout=subprocess.PIPE, stderr=subprocess.PIPE)\n",
    "\n",
    "resultOK = process_subprocess_ouput(process)\n",
    "\n",
    "print(\"Success:\", resultOK)"
   ]
  },
  {
   "attachments": {},
   "cell_type": "markdown",
   "metadata": {},
   "source": [
    "Destroy Object 1"
   ]
  },
  {
   "cell_type": "code",
   "execution_count": 35,
   "metadata": {},
   "outputs": [
    {
     "name": "stdout",
     "output_type": "stream",
     "text": [
      "ros2 service call /object_manager/destroy_object spawn_object_interfaces/srv/DestroyObject \"{obj_name: my_object_1}\"\n"
     ]
    },
    {
     "name": "stdout",
     "output_type": "stream",
     "text": [
      "requester: making request: spawn_object_interfaces.srv.DestroyObject_Request(obj_name='my_object_1')\n",
      "\n",
      "response:\n",
      "spawn_object_interfaces.srv.DestroyObject_Response(success=False)\n",
      "\n"
     ]
    }
   ],
   "source": [
    "#service = '/object_publisher/destroy_object'\n",
    "service = '/object_manager/destroy_object'\n",
    "\n",
    "object_name = 'my_object_1'\n",
    "\n",
    "command=f'ros2 service call '\\\n",
    "+ service + ' '\\\n",
    "'spawn_object_interfaces/srv/DestroyObject '\\\n",
    "'\"{obj_name: '+object_name+'}\"'\n",
    "\n",
    "print(str(command))\n",
    "\n",
    "process = subprocess.Popen(command, shell=True)"
   ]
  },
  {
   "attachments": {},
   "cell_type": "markdown",
   "metadata": {},
   "source": [
    "Destroy Object 2"
   ]
  },
  {
   "cell_type": "code",
   "execution_count": 27,
   "metadata": {},
   "outputs": [
    {
     "name": "stdout",
     "output_type": "stream",
     "text": [
      "ros2 service call /object_manager/destroy_object spawn_object_interfaces/srv/DestroyObject \"{obj_name: my_object_2}\"\n"
     ]
    },
    {
     "name": "stdout",
     "output_type": "stream",
     "text": [
      "waiting for service to become available...\n",
      "requester: making request: spawn_object_interfaces.srv.DestroyObject_Request(obj_name='my_object_2')\n",
      "\n",
      "response:\n",
      "spawn_object_interfaces.srv.DestroyObject_Response(success=True)\n",
      "\n"
     ]
    }
   ],
   "source": [
    "#service = '/object_publisher/destroy_object'\n",
    "service = '/object_manager/destroy_object'\n",
    "\n",
    "object_name = 'my_object_2'\n",
    "\n",
    "command=f'ros2 service call '\\\n",
    "+ service + ' '\\\n",
    "'spawn_object_interfaces/srv/DestroyObject '\\\n",
    "'\"{obj_name: '+object_name+'}\"'\n",
    "\n",
    "print(str(command))\n",
    "\n",
    "process = subprocess.Popen(command, shell=True)"
   ]
  },
  {
   "attachments": {},
   "cell_type": "markdown",
   "metadata": {},
   "source": [
    "Change Parent Frame"
   ]
  },
  {
   "cell_type": "code",
   "execution_count": 48,
   "metadata": {},
   "outputs": [
    {
     "name": "stdout",
     "output_type": "stream",
     "text": [
      "ros2 service call /object_manager/change_obj_parent_frame spawn_object_interfaces/srv/ChangeParentFrame \"{obj_name: my_object_1, parent_frame: my_object_2}\"\n"
     ]
    },
    {
     "name": "stdout",
     "output_type": "stream",
     "text": [
      "requester: making request: spawn_object_interfaces.srv.ChangeParentFrame_Request(obj_name='my_object_1', parent_frame='my_object_2')\n",
      "\n",
      "response:\n",
      "spawn_object_interfaces.srv.ChangeParentFrame_Response(success=True)\n",
      "\n"
     ]
    }
   ],
   "source": [
    "service = '/object_manager/change_obj_parent_frame'\n",
    "object_name = \"my_object_1\"\n",
    "new_parent_frame = 'my_object_2'\n",
    "\n",
    "command=f'ros2 service call '\\\n",
    "+ service + ' '\\\n",
    "'spawn_object_interfaces/srv/ChangeParentFrame '\\\n",
    "'\"{obj_name: '+ object_name+', '\\\n",
    "'parent_frame: '+ new_parent_frame+'}\"'\n",
    "\n",
    "print(str(command))\n",
    "\n",
    "process = subprocess.Popen(command, shell=True)"
   ]
  },
  {
   "attachments": {},
   "cell_type": "markdown",
   "metadata": {},
   "source": [
    "Create Ref Frame"
   ]
  },
  {
   "cell_type": "code",
   "execution_count": 138,
   "metadata": {},
   "outputs": [
    {
     "name": "stdout",
     "output_type": "stream",
     "text": [
      "ros2 service call object_manager/create_ref_frame spawn_object_interfaces/srv/CreateRefFrame \"{frame_name: my_test_frame, parent_frame: world , pose:{position: {x: 1.0, y: 2.0, z: 0.0}, orientation: {x: 0.0, y: 0.0, z: 0.0, w: 1.0}}}\"\n"
     ]
    },
    {
     "name": "stdout",
     "output_type": "stream",
     "text": [
      "requester: making request: spawn_object_interfaces.srv.CreateRefFrame_Request(frame_name='my_test_frame', parent_frame='world', pose=geometry_msgs.msg.Pose(position=geometry_msgs.msg.Point(x=1.0, y=2.0, z=0.0), orientation=geometry_msgs.msg.Quaternion(x=0.0, y=0.0, z=0.0, w=1.0)))\n",
      "\n",
      "response:\n",
      "spawn_object_interfaces.srv.CreateRefFrame_Response(success=True)\n",
      "\n"
     ]
    }
   ],
   "source": [
    "service = 'object_manager/create_ref_frame'\n",
    "frame_name = 'my_test_frame'\n",
    "parent_frame = 'world'\n",
    "\n",
    "command=f'ros2 service call '\\\n",
    "+ service + ' '\\\n",
    "'spawn_object_interfaces/srv/CreateRefFrame '\\\n",
    "'\"{frame_name: '+ frame_name+', '\\\n",
    "'parent_frame: '+ parent_frame +' , '\\\n",
    "'pose:{position: {x: 1.0, y: 2.0, z: 0.0}, orientation: {x: 0.0, y: 0.0, z: 0.0, w: 1.0}}}\"'\\\n",
    "\n",
    "\n",
    "print(str(command))\n",
    "\n",
    "process = subprocess.Popen(command, shell=True)"
   ]
  },
  {
   "attachments": {},
   "cell_type": "markdown",
   "metadata": {},
   "source": [
    "Delete Ref Frame"
   ]
  },
  {
   "cell_type": "code",
   "execution_count": 136,
   "metadata": {},
   "outputs": [
    {
     "name": "stdout",
     "output_type": "stream",
     "text": [
      "ros2 service call object_manager/delete_ref_frame spawn_object_interfaces/srv/DeleteRefFrame \"{frame_name: my_test_frame}\"\n"
     ]
    },
    {
     "name": "stdout",
     "output_type": "stream",
     "text": [
      "requester: making request: spawn_object_interfaces.srv.DeleteRefFrame_Request(frame_name='my_test_frame')\n",
      "\n",
      "response:\n",
      "spawn_object_interfaces.srv.DeleteRefFrame_Response(success=True)\n",
      "\n"
     ]
    }
   ],
   "source": [
    "service = 'object_manager/delete_ref_frame'\n",
    "\n",
    "command=f'ros2 service call '\\\n",
    "+ service + ' '\\\n",
    "'spawn_object_interfaces/srv/DeleteRefFrame '\\\n",
    "'\"{frame_name: '+ frame_name+'}\"'\n",
    "\n",
    "print(str(command))\n",
    "\n",
    "process = subprocess.Popen(command, shell=True)"
   ]
  },
  {
   "attachments": {},
   "cell_type": "markdown",
   "metadata": {},
   "source": [
    "Modify Pose"
   ]
  },
  {
   "cell_type": "code",
   "execution_count": 100,
   "metadata": {},
   "outputs": [
    {
     "name": "stdout",
     "output_type": "stream",
     "text": [
      "ros2 service call object_manager/modify_pose spawn_object_interfaces/srv/ModifyPose \"{frame_name: my_test_frame, rel_pose:{position: {x: -1.0, y: 2.0, z: 1.0}, orientation: {x: 0.0, y: 0.0, z: 0.0, w: 0.0}}}\"\n"
     ]
    },
    {
     "name": "stdout",
     "output_type": "stream",
     "text": [
      "requester: making request: spawn_object_interfaces.srv.ModifyPose_Request(frame_name='my_test_frame', rel_pose=geometry_msgs.msg.Pose(position=geometry_msgs.msg.Point(x=-1.0, y=2.0, z=1.0), orientation=geometry_msgs.msg.Quaternion(x=0.0, y=0.0, z=0.0, w=0.0)))\n",
      "\n",
      "response:\n",
      "spawn_object_interfaces.srv.ModifyPose_Response(success=True)\n",
      "\n"
     ]
    }
   ],
   "source": [
    "service = 'object_manager/modify_pose'\n",
    "frame_name = 'my_test_frame'\n",
    "#frame_name = 'my_object_1'\n",
    "\n",
    "command=f'ros2 service call '\\\n",
    "+ service + ' '\\\n",
    "'spawn_object_interfaces/srv/ModifyPose '\\\n",
    "'\"{frame_name: '+ frame_name+', '\\\n",
    "'rel_pose:{position: {x: -1.0, y: 2.0, z: 1.0}, orientation: {x: 0.0, y: 0.0, z: 0.0, w: 0.0}}}\"'\\\n",
    "\n",
    "\n",
    "print(str(command))\n",
    "\n",
    "process = subprocess.Popen(command, shell=True)"
   ]
  },
  {
   "attachments": {},
   "cell_type": "markdown",
   "metadata": {},
   "source": [
    "Get Info"
   ]
  },
  {
   "cell_type": "code",
   "execution_count": 143,
   "metadata": {},
   "outputs": [
    {
     "name": "stdout",
     "output_type": "stream",
     "text": [
      "ros2 service call object_manager/get_info spawn_object_interfaces/srv/GetInfo\n",
      "obj_names: ['my_object_2', 'my_object_1']\n",
      "ref_frame_names: ['my_test_frame']\n"
     ]
    }
   ],
   "source": [
    "service = 'object_manager/get_info'\n",
    "\n",
    "command=f'ros2 service call '\\\n",
    "+ service + ' '\\\n",
    "'spawn_object_interfaces/srv/GetInfo'\n",
    "\n",
    "print(str(command))\n",
    "\n",
    "process = subprocess.Popen(command, shell=True, stdout=subprocess.PIPE, stderr=subprocess.PIPE)\n",
    "\n",
    "output, error = process.communicate()\n",
    "# Decode the byte strings to regular strings (assuming UTF-8 encoding)\n",
    "output = output.decode('utf-8')\n",
    "error = error.decode('utf-8')\n",
    "\n",
    "# Find the index of the obj_names and ref_frame_names lists\n",
    "obj_names_start_index = output.find(\"obj_names=\")\n",
    "obj_names_end_index = output.find(\"]\", obj_names_start_index)\n",
    "ref_frame_names_start_index = output.find(\"ref_frame_names=\")\n",
    "ref_frame_names_end_index = output.find(\"]\", ref_frame_names_start_index)\n",
    "\n",
    "# Extract the obj_names and ref_frame_names lists\n",
    "obj_names_string = output[obj_names_start_index + len(\"obj_names=\") : obj_names_end_index + 1]\n",
    "ref_frame_names_string = output[ref_frame_names_start_index + len(\"ref_frame_names=\") : ref_frame_names_end_index + 1]\n",
    "\n",
    "# Evaluate the obj_names and ref_frame_names lists as Python lists\n",
    "obj_names = eval(obj_names_string)\n",
    "ref_frame_names = eval(ref_frame_names_string)\n",
    "\n",
    "# Print the obj_names and ref_frame_names lists\n",
    "print(\"obj_names:\", obj_names)\n",
    "print(\"ref_frame_names:\", ref_frame_names)"
   ]
  }
 ],
 "metadata": {
  "kernelspec": {
   "display_name": "Python 3",
   "language": "python",
   "name": "python3"
  },
  "language_info": {
   "codemirror_mode": {
    "name": "ipython",
    "version": 3
   },
   "file_extension": ".py",
   "mimetype": "text/x-python",
   "name": "python",
   "nbconvert_exporter": "python",
   "pygments_lexer": "ipython3",
   "version": "3.10.6"
  },
  "orig_nbformat": 4
 },
 "nbformat": 4,
 "nbformat_minor": 2
}
