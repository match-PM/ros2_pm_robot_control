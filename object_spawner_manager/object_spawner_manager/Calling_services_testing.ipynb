{
 "cells": [
  {
   "cell_type": "code",
   "execution_count": 1,
   "metadata": {},
   "outputs": [],
   "source": [
    "import subprocess\n",
    "\n",
    "def process_subprocess_ouput(subprocess_output):\n",
    "    output, error = subprocess_output.communicate()\n",
    "    # Decode the byte strings to regular strings (assuming UTF-8 encoding)\n",
    "    output = output.decode('utf-8')\n",
    "    error = error.decode('utf-8')\n",
    "    start_index = output.find(\"success=\")\n",
    "    end_index = output.find(\")\", start_index)\n",
    "    success_string = output[start_index + len(\"success=\"):end_index]\n",
    "    success = bool(success_string)\n",
    "    return success\n"
   ]
  },
  {
   "attachments": {},
   "cell_type": "markdown",
   "metadata": {},
   "source": [
    "Part Info"
   ]
  },
  {
   "cell_type": "code",
   "execution_count": 2,
   "metadata": {},
   "outputs": [],
   "source": [
    "cad_data = '//home/niklas/Desktop/Gonio_Right_Stage_2_Upper.STL'\n",
    "#cad_data = '//home/mll/Desktop/Gonio_Right_Stage_2_Upper.STL'"
   ]
  },
  {
   "attachments": {},
   "cell_type": "markdown",
   "metadata": {},
   "source": [
    "Spawn Object 1"
   ]
  },
  {
   "cell_type": "code",
   "execution_count": 16,
   "metadata": {},
   "outputs": [
    {
     "name": "stdout",
     "output_type": "stream",
     "text": [
      "ros2 service call /object_manager/spawn_object spawn_object_interfaces/srv/SpawnObject \"{obj_name: my_object_2, parent_frame: Y_Axis , translation:{x: 1.0, y: 2.0, z: 0.0}, rotation:{x: 0.0, y: 0.0, z: 0.0, w: 1.0}, cad_data: //home/niklas/Desktop/Gonio_Right_Stage_2_Upper.STL}\"\n"
     ]
    },
    {
     "name": "stdout",
     "output_type": "stream",
     "text": [
      "requester: making request: spawn_object_interfaces.srv.SpawnObject_Request(obj_name='my_object_2', parent_frame='Y_Axis', translation=geometry_msgs.msg.Vector3(x=1.0, y=2.0, z=0.0), rotation=geometry_msgs.msg.Quaternion(x=0.0, y=0.0, z=0.0, w=1.0), cad_data='//home/niklas/Desktop/Gonio_Right_Stage_2_Upper.STL')\n",
      "\n",
      "response:\n",
      "spawn_object_interfaces.srv.SpawnObject_Response(success=True)\n",
      "\n"
     ]
    }
   ],
   "source": [
    "#service = '/object_publisher/spawn_object'\n",
    "service = '/object_manager/spawn_object'\n",
    "object_name = 'my_object_2'\n",
    "parent_frame='Y_Axis'\n",
    "\n",
    "command=f'ros2 service call '\\\n",
    "+ service + ' '\\\n",
    "'spawn_object_interfaces/srv/SpawnObject '\\\n",
    "'\"{obj_name: '+object_name+', '\\\n",
    "'parent_frame: '+ parent_frame +' , '\\\n",
    "'translation:{x: 1.0, y: 2.0, z: 0.0}, '\\\n",
    "'rotation:{x: 0.0, y: 0.0, z: 0.0, w: 1.0}, '\\\n",
    "'cad_data: '+cad_data+'}\"'\n",
    "\n",
    "\n",
    "#'pose:{position: {x: 1.0, y: 2.0, z: 0.0}, orientation: {x: 0.0, y: 0.0, z: 0.0, w: 1.0}}\n",
    "print(str(command))\n",
    "\n",
    "process = subprocess.Popen(command, shell=True)"
   ]
  },
  {
   "cell_type": "markdown",
   "metadata": {},
   "source": [
    "SpawnFromDict"
   ]
  },
  {
   "cell_type": "code",
   "execution_count": 34,
   "metadata": {},
   "outputs": [],
   "source": [
    "dictionaryy=[\n",
    "    {\n",
    "        \"Spawn\":{\n",
    "        \"object_name\":\"myobject\",\n",
    "        \"cad_data\":'//home/niklas/Desktop/Gonio_Right_Stage_2_Upper.STL',\n",
    "        \"spawning_frame\":\"pm_robot_base_link\"\n",
    "        },\n",
    "        \"ref_frames\":{\n",
    "            \"frame_1\":{\n",
    "                \"parent_frame\":\"world\",\n",
    "                \"pose\":{\n",
    "                \"x\":0,\n",
    "                \"y\":0,\n",
    "                \"z\":0.5,\n",
    "                \"qw\":1,\n",
    "                \"qx\":0,\n",
    "                \"qy\":0,\n",
    "                \"qz\":0}},\n",
    "            \"frame_2\":{\n",
    "                \"parent_frame\":\"world\",\n",
    "                \"pose\":{\n",
    "                \"x\":0,\n",
    "                \"y\":0,\n",
    "                \"z\":1,\n",
    "                \"qw\":1,\n",
    "                \"qx\":0,\n",
    "                \"qy\":0,\n",
    "                \"qz\":0}},\n",
    "            }\n",
    "    },\n",
    "        {\n",
    "        \"Spawn\":{\n",
    "        \"object_name\":\"myobject_2\",\n",
    "        \"cad_data\":'//home/niklas/Desktop/Gonio_Right_Stage_2_Upper.STL',\n",
    "        \"spawning_frame\":\"pm_robot_base_link\"\n",
    "        },\n",
    "        \"ref_frames\":{\n",
    "            \"frame_3\":{\n",
    "                \"parent_frame\":\"world\",\n",
    "                \"pose\":{\n",
    "                \"x\":0,\n",
    "                \"y\":0,\n",
    "                \"z\":1.5,\n",
    "                \"qw\":1,\n",
    "                \"qx\":0,\n",
    "                \"qy\":0,\n",
    "                \"qz\":0}},\n",
    "            \"frame_4\":{\n",
    "                \"parent_frame\":\"world\",\n",
    "                \"pose\":{\n",
    "                \"x\":0,\n",
    "                \"y\":0,\n",
    "                \"z\":2,\n",
    "                \"qw\":1,\n",
    "                \"qx\":0,\n",
    "                \"qy\":0,\n",
    "                \"qz\":0}},\n",
    "            }\n",
    "    }\n",
    "]"
   ]
  },
  {
   "cell_type": "code",
   "execution_count": 41,
   "metadata": {},
   "outputs": [
    {
     "name": "stdout",
     "output_type": "stream",
     "text": [
      "ros2 service call /object_manager/spawn_from_dict spawn_object_interfaces/srv/SpawnFromDict \"{dict: [{'Spawn': {'object_name': 'myobject', 'cad_data': '//home/niklas/Desktop/Gonio_Right_Stage_2_Upper.STL', 'spawning_frame': 'X_Axis'}, 'ref_frames': {'frame_1': {'parent_frame': 'world', 'pose': {'x': 0, 'y': 0, 'z': 0.5, 'qw': 1, 'qx': 0, 'qy': 0, 'qz': 0}}, 'frame_2': {'parent_frame': 'world', 'pose': {'x': 0, 'y': 0, 'z': 1, 'qw': 1, 'qx': 0, 'qy': 0, 'qz': 0}}}}, {'Spawn': {'object_name': 'myobject_2', 'cad_data': '//home/niklas/Desktop/Gonio_Right_Stage_2_Upper.STL', 'spawning_frame': 'X_Axis'}, 'ref_frames': {'frame_3': {'parent_frame': 'world', 'pose': {'x': 0, 'y': 0, 'z': 1.5, 'qw': 1, 'qx': 0, 'qy': 0, 'qz': 0}}, 'frame_4': {'parent_frame': 'world', 'pose': {'x': 0, 'y': 0, 'z': 2, 'qw': 1, 'qx': 0, 'qy': 0, 'qz': 0}}}}]}\"\n"
     ]
    },
    {
     "name": "stdout",
     "output_type": "stream",
     "text": [
      "waiting for service to become available...\n",
      "requester: making request: spawn_object_interfaces.srv.SpawnFromDict_Request(dict=\"[{'Spawn': {'object_name': 'myobject', 'cad_data': '//home/niklas/Desktop/Gonio_Right_Stage_2_Upper.STL', 'spawning_frame': 'X_Axis'}, 'ref_frames': {'frame_1': {'parent_frame': 'world', 'pose': {'x': 0, 'y': 0, 'z': 0.5, 'qw': 1, 'qx': 0, 'qy': 0, 'qz': 0}}, 'frame_2': {'parent_frame': 'world', 'pose': {'x': 0, 'y': 0, 'z': 1, 'qw': 1, 'qx': 0, 'qy': 0, 'qz': 0}}}}, {'Spawn': {'object_name': 'myobject_2', 'cad_data': '//home/niklas/Desktop/Gonio_Right_Stage_2_Upper.STL', 'spawning_frame': 'X_Axis'}, 'ref_frames': {'frame_3': {'parent_frame': 'world', 'pose': {'x': 0, 'y': 0, 'z': 1.5, 'qw': 1, 'qx': 0, 'qy': 0, 'qz': 0}}, 'frame_4': {'parent_frame': 'world', 'pose': {'x': 0, 'y': 0, 'z': 2, 'qw': 1, 'qx': 0, 'qy': 0, 'qz': 0}}}}]\")\n",
      "\n",
      "response:\n",
      "spawn_object_interfaces.srv.SpawnFromDict_Response(success=True)\n",
      "\n"
     ]
    }
   ],
   "source": [
    "#service = '/object_publisher/spawn_object'\n",
    "service = '/object_manager/spawn_from_dict'\n",
    "\n",
    "command=f'ros2 service call '\\\n",
    "+ service + ' '\\\n",
    "'spawn_object_interfaces/srv/SpawnFromDict '\\\n",
    "'\"{dict: '+ str(dictionaryy) +'}\"'\n",
    "\n",
    "print(str(command))\n",
    "\n",
    "process = subprocess.Popen(command, shell=True)"
   ]
  },
  {
   "attachments": {},
   "cell_type": "markdown",
   "metadata": {},
   "source": [
    "Spawn Object 2"
   ]
  },
  {
   "cell_type": "code",
   "execution_count": 36,
   "metadata": {},
   "outputs": [
    {
     "ename": "KeyboardInterrupt",
     "evalue": "",
     "output_type": "error",
     "traceback": [
      "\u001b[0;31m---------------------------------------------------------------------------\u001b[0m",
      "\u001b[0;31mKeyboardInterrupt\u001b[0m                         Traceback (most recent call last)",
      "\u001b[1;32m/home/niklas/ros2_ws/src/ros2_pm_robot_control/object_spawner_manager/object_spawner_manager/Calling_services_testing.ipynb Cell 10\u001b[0m line \u001b[0;36m1\n\u001b[1;32m     <a href='vscode-notebook-cell:/home/niklas/ros2_ws/src/ros2_pm_robot_control/object_spawner_manager/object_spawner_manager/Calling_services_testing.ipynb#X12sZmlsZQ%3D%3D?line=14'>15</a>\u001b[0m \u001b[39m#print(str(command))\u001b[39;00m\n\u001b[1;32m     <a href='vscode-notebook-cell:/home/niklas/ros2_ws/src/ros2_pm_robot_control/object_spawner_manager/object_spawner_manager/Calling_services_testing.ipynb#X12sZmlsZQ%3D%3D?line=16'>17</a>\u001b[0m process \u001b[39m=\u001b[39m subprocess\u001b[39m.\u001b[39mPopen(command, shell\u001b[39m=\u001b[39m\u001b[39mTrue\u001b[39;00m, stdout\u001b[39m=\u001b[39msubprocess\u001b[39m.\u001b[39mPIPE, stderr\u001b[39m=\u001b[39msubprocess\u001b[39m.\u001b[39mPIPE)\n\u001b[0;32m---> <a href='vscode-notebook-cell:/home/niklas/ros2_ws/src/ros2_pm_robot_control/object_spawner_manager/object_spawner_manager/Calling_services_testing.ipynb#X12sZmlsZQ%3D%3D?line=18'>19</a>\u001b[0m resultOK \u001b[39m=\u001b[39m process_subprocess_ouput(process)\n\u001b[1;32m     <a href='vscode-notebook-cell:/home/niklas/ros2_ws/src/ros2_pm_robot_control/object_spawner_manager/object_spawner_manager/Calling_services_testing.ipynb#X12sZmlsZQ%3D%3D?line=20'>21</a>\u001b[0m \u001b[39mprint\u001b[39m(\u001b[39m\"\u001b[39m\u001b[39mSuccess:\u001b[39m\u001b[39m\"\u001b[39m, resultOK)\n",
      "\u001b[1;32m/home/niklas/ros2_ws/src/ros2_pm_robot_control/object_spawner_manager/object_spawner_manager/Calling_services_testing.ipynb Cell 10\u001b[0m line \u001b[0;36m4\n\u001b[1;32m      <a href='vscode-notebook-cell:/home/niklas/ros2_ws/src/ros2_pm_robot_control/object_spawner_manager/object_spawner_manager/Calling_services_testing.ipynb#X12sZmlsZQ%3D%3D?line=2'>3</a>\u001b[0m \u001b[39mdef\u001b[39;00m \u001b[39mprocess_subprocess_ouput\u001b[39m(subprocess_output):\n\u001b[0;32m----> <a href='vscode-notebook-cell:/home/niklas/ros2_ws/src/ros2_pm_robot_control/object_spawner_manager/object_spawner_manager/Calling_services_testing.ipynb#X12sZmlsZQ%3D%3D?line=3'>4</a>\u001b[0m     output, error \u001b[39m=\u001b[39m subprocess_output\u001b[39m.\u001b[39;49mcommunicate()\n\u001b[1;32m      <a href='vscode-notebook-cell:/home/niklas/ros2_ws/src/ros2_pm_robot_control/object_spawner_manager/object_spawner_manager/Calling_services_testing.ipynb#X12sZmlsZQ%3D%3D?line=4'>5</a>\u001b[0m     \u001b[39m# Decode the byte strings to regular strings (assuming UTF-8 encoding)\u001b[39;00m\n\u001b[1;32m      <a href='vscode-notebook-cell:/home/niklas/ros2_ws/src/ros2_pm_robot_control/object_spawner_manager/object_spawner_manager/Calling_services_testing.ipynb#X12sZmlsZQ%3D%3D?line=5'>6</a>\u001b[0m     output \u001b[39m=\u001b[39m output\u001b[39m.\u001b[39mdecode(\u001b[39m'\u001b[39m\u001b[39mutf-8\u001b[39m\u001b[39m'\u001b[39m)\n",
      "File \u001b[0;32m/usr/lib/python3.10/subprocess.py:1154\u001b[0m, in \u001b[0;36mPopen.communicate\u001b[0;34m(self, input, timeout)\u001b[0m\n\u001b[1;32m   1151\u001b[0m     endtime \u001b[39m=\u001b[39m \u001b[39mNone\u001b[39;00m\n\u001b[1;32m   1153\u001b[0m \u001b[39mtry\u001b[39;00m:\n\u001b[0;32m-> 1154\u001b[0m     stdout, stderr \u001b[39m=\u001b[39m \u001b[39mself\u001b[39;49m\u001b[39m.\u001b[39;49m_communicate(\u001b[39minput\u001b[39;49m, endtime, timeout)\n\u001b[1;32m   1155\u001b[0m \u001b[39mexcept\u001b[39;00m \u001b[39mKeyboardInterrupt\u001b[39;00m:\n\u001b[1;32m   1156\u001b[0m     \u001b[39m# https://bugs.python.org/issue25942\u001b[39;00m\n\u001b[1;32m   1157\u001b[0m     \u001b[39m# See the detailed comment in .wait().\u001b[39;00m\n\u001b[1;32m   1158\u001b[0m     \u001b[39mif\u001b[39;00m timeout \u001b[39mis\u001b[39;00m \u001b[39mnot\u001b[39;00m \u001b[39mNone\u001b[39;00m:\n",
      "File \u001b[0;32m/usr/lib/python3.10/subprocess.py:2021\u001b[0m, in \u001b[0;36mPopen._communicate\u001b[0;34m(self, input, endtime, orig_timeout)\u001b[0m\n\u001b[1;32m   2014\u001b[0m     \u001b[39mself\u001b[39m\u001b[39m.\u001b[39m_check_timeout(endtime, orig_timeout,\n\u001b[1;32m   2015\u001b[0m                         stdout, stderr,\n\u001b[1;32m   2016\u001b[0m                         skip_check_and_raise\u001b[39m=\u001b[39m\u001b[39mTrue\u001b[39;00m)\n\u001b[1;32m   2017\u001b[0m     \u001b[39mraise\u001b[39;00m \u001b[39mRuntimeError\u001b[39;00m(  \u001b[39m# Impossible :)\u001b[39;00m\n\u001b[1;32m   2018\u001b[0m         \u001b[39m'\u001b[39m\u001b[39m_check_timeout(..., skip_check_and_raise=True) \u001b[39m\u001b[39m'\u001b[39m\n\u001b[1;32m   2019\u001b[0m         \u001b[39m'\u001b[39m\u001b[39mfailed to raise TimeoutExpired.\u001b[39m\u001b[39m'\u001b[39m)\n\u001b[0;32m-> 2021\u001b[0m ready \u001b[39m=\u001b[39m selector\u001b[39m.\u001b[39;49mselect(timeout)\n\u001b[1;32m   2022\u001b[0m \u001b[39mself\u001b[39m\u001b[39m.\u001b[39m_check_timeout(endtime, orig_timeout, stdout, stderr)\n\u001b[1;32m   2024\u001b[0m \u001b[39m# XXX Rewrite these to use non-blocking I/O on the file\u001b[39;00m\n\u001b[1;32m   2025\u001b[0m \u001b[39m# objects; they are no longer using C stdio!\u001b[39;00m\n",
      "File \u001b[0;32m/usr/lib/python3.10/selectors.py:416\u001b[0m, in \u001b[0;36m_PollLikeSelector.select\u001b[0;34m(self, timeout)\u001b[0m\n\u001b[1;32m    414\u001b[0m ready \u001b[39m=\u001b[39m []\n\u001b[1;32m    415\u001b[0m \u001b[39mtry\u001b[39;00m:\n\u001b[0;32m--> 416\u001b[0m     fd_event_list \u001b[39m=\u001b[39m \u001b[39mself\u001b[39;49m\u001b[39m.\u001b[39;49m_selector\u001b[39m.\u001b[39;49mpoll(timeout)\n\u001b[1;32m    417\u001b[0m \u001b[39mexcept\u001b[39;00m \u001b[39mInterruptedError\u001b[39;00m:\n\u001b[1;32m    418\u001b[0m     \u001b[39mreturn\u001b[39;00m ready\n",
      "\u001b[0;31mKeyboardInterrupt\u001b[0m: "
     ]
    }
   ],
   "source": [
    "service = '/object_manager/spawn_object'\n",
    "object_name = 'my_object_4'\n",
    "parent_frame='my_object_1'\n",
    "#parent_frame='Y_Axis'\n",
    "\n",
    "command=f'ros2 service call '\\\n",
    "+ service + ' '\\\n",
    "'spawn_object_interfaces/srv/SpawnObject '\\\n",
    "'\"{obj_name: '+object_name+', '\\\n",
    "'parent_frame: '+ parent_frame +' , '\\\n",
    "'translation:{x: 1.0, y: 2.0, z: 0.0}, '\\\n",
    "'rotation:{x: 0.0, y: 0.0, z: 0.0, w: 1.0}, '\\\n",
    "'cad_data: '+cad_data+'}\"'\n",
    "\n",
    "#print(str(command))\n",
    "\n",
    "process = subprocess.Popen(command, shell=True, stdout=subprocess.PIPE, stderr=subprocess.PIPE)\n",
    "\n",
    "resultOK = process_subprocess_ouput(process)\n",
    "\n",
    "print(\"Success:\", resultOK)"
   ]
  },
  {
   "attachments": {},
   "cell_type": "markdown",
   "metadata": {},
   "source": [
    "Destroy Object 1"
   ]
  },
  {
   "cell_type": "code",
   "execution_count": 54,
   "metadata": {},
   "outputs": [
    {
     "name": "stdout",
     "output_type": "stream",
     "text": [
      "ros2 service call /object_manager/destroy_object spawn_object_interfaces/srv/DestroyObject \"{obj_name: my_object_1}\"\n"
     ]
    },
    {
     "name": "stdout",
     "output_type": "stream",
     "text": [
      "requester: making request: spawn_object_interfaces.srv.DestroyObject_Request(obj_name='my_object_1')\n",
      "\n"
     ]
    }
   ],
   "source": [
    "#service = '/object_publisher/destroy_object'\n",
    "service = '/object_manager/destroy_object'\n",
    "\n",
    "object_name = 'my_object_1'\n",
    "\n",
    "command=f'ros2 service call '\\\n",
    "+ service + ' '\\\n",
    "'spawn_object_interfaces/srv/DestroyObject '\\\n",
    "'\"{obj_name: '+object_name+'}\"'\n",
    "\n",
    "print(str(command))\n",
    "\n",
    "process = subprocess.Popen(command, shell=True)"
   ]
  },
  {
   "attachments": {},
   "cell_type": "markdown",
   "metadata": {},
   "source": [
    "Destroy Object 2"
   ]
  },
  {
   "cell_type": "code",
   "execution_count": 28,
   "metadata": {},
   "outputs": [
    {
     "name": "stdout",
     "output_type": "stream",
     "text": [
      "ros2 service call /object_manager/destroy_object spawn_object_interfaces/srv/DestroyObject \"{obj_name: my_object_2}\"\n"
     ]
    },
    {
     "name": "stdout",
     "output_type": "stream",
     "text": [
      "requester: making request: spawn_object_interfaces.srv.DestroyObject_Request(obj_name='my_object_2')\n",
      "\n"
     ]
    }
   ],
   "source": [
    "#service = '/object_publisher/destroy_object'\n",
    "service = '/object_manager/destroy_object'\n",
    "\n",
    "object_name = 'my_object_2'\n",
    "\n",
    "command=f'ros2 service call '\\\n",
    "+ service + ' '\\\n",
    "'spawn_object_interfaces/srv/DestroyObject '\\\n",
    "'\"{obj_name: '+object_name+'}\"'\n",
    "\n",
    "print(str(command))\n",
    "\n",
    "process = subprocess.Popen(command, shell=True)"
   ]
  },
  {
   "attachments": {},
   "cell_type": "markdown",
   "metadata": {},
   "source": [
    "Change Parent Frame"
   ]
  },
  {
   "cell_type": "code",
   "execution_count": 13,
   "metadata": {},
   "outputs": [
    {
     "name": "stdout",
     "output_type": "stream",
     "text": [
      "ros2 service call /object_manager/change_obj_parent_frame spawn_object_interfaces/srv/ChangeParentFrame \"{obj_name: my_object_2, parent_frame: Y_Axis}\"\n"
     ]
    },
    {
     "name": "stdout",
     "output_type": "stream",
     "text": [
      "requester: making request: spawn_object_interfaces.srv.ChangeParentFrame_Request(obj_name='my_object_2', parent_frame='Y_Axis')\n",
      "\n",
      "response:\n",
      "spawn_object_interfaces.srv.ChangeParentFrame_Response(success=True)\n",
      "\n"
     ]
    }
   ],
   "source": [
    "service = '/object_manager/change_obj_parent_frame'\n",
    "object_name = \"my_object_2\"\n",
    "#new_parent_frame = 'my_object_2'\n",
    "new_parent_frame = 'Y_Axis'\n",
    "command=f'ros2 service call '\\\n",
    "+ service + ' '\\\n",
    "'spawn_object_interfaces/srv/ChangeParentFrame '\\\n",
    "'\"{obj_name: '+ object_name+', '\\\n",
    "'parent_frame: '+ new_parent_frame+'}\"'\n",
    "\n",
    "print(str(command))\n",
    "\n",
    "process = subprocess.Popen(command, shell=True)"
   ]
  },
  {
   "attachments": {},
   "cell_type": "markdown",
   "metadata": {},
   "source": [
    "Create Ref Frame"
   ]
  },
  {
   "cell_type": "code",
   "execution_count": 31,
   "metadata": {},
   "outputs": [
    {
     "name": "stdout",
     "output_type": "stream",
     "text": [
      "ros2 service call object_manager/create_ref_frame spawn_object_interfaces/srv/CreateRefFrame \"{frame_name: my_test_frame, parent_frame: world , pose:{position: {x: 1.0, y: 2.0, z: 0.0}, orientation: {x: 0.0, y: 0.0, z: 0.0, w: 1.0}}}\"\n"
     ]
    },
    {
     "name": "stdout",
     "output_type": "stream",
     "text": [
      "waiting for service to become available...\n",
      "requester: making request: spawn_object_interfaces.srv.CreateRefFrame_Request(frame_name='my_test_frame', parent_frame='world', pose=geometry_msgs.msg.Pose(position=geometry_msgs.msg.Point(x=1.0, y=2.0, z=0.0), orientation=geometry_msgs.msg.Quaternion(x=0.0, y=0.0, z=0.0, w=1.0)))\n",
      "\n",
      "response:\n",
      "spawn_object_interfaces.srv.CreateRefFrame_Response(success=True)\n",
      "\n"
     ]
    }
   ],
   "source": [
    "service = 'object_manager/create_ref_frame'\n",
    "frame_name = 'my_test_frame'\n",
    "parent_frame = 'world'\n",
    "\n",
    "command=f'ros2 service call '\\\n",
    "+ service + ' '\\\n",
    "'spawn_object_interfaces/srv/CreateRefFrame '\\\n",
    "'\"{frame_name: '+ frame_name+', '\\\n",
    "'parent_frame: '+ parent_frame +' , '\\\n",
    "'pose:{position: {x: 1.0, y: 2.0, z: 0.0}, orientation: {x: 0.0, y: 0.0, z: 0.0, w: 1.0}}}\"'\\\n",
    "\n",
    "\n",
    "print(str(command))\n",
    "\n",
    "process = subprocess.Popen(command, shell=True)"
   ]
  },
  {
   "attachments": {},
   "cell_type": "markdown",
   "metadata": {},
   "source": [
    "Delete Ref Frame"
   ]
  },
  {
   "cell_type": "code",
   "execution_count": 24,
   "metadata": {},
   "outputs": [
    {
     "name": "stdout",
     "output_type": "stream",
     "text": [
      "ros2 service call object_manager/delete_ref_frame spawn_object_interfaces/srv/DeleteRefFrame \"{frame_name: my_test_frame}\"\n"
     ]
    },
    {
     "name": "stdout",
     "output_type": "stream",
     "text": [
      "requester: making request: spawn_object_interfaces.srv.DeleteRefFrame_Request(frame_name='my_test_frame')\n",
      "\n",
      "response:\n",
      "spawn_object_interfaces.srv.DeleteRefFrame_Response(success=True)\n",
      "\n"
     ]
    }
   ],
   "source": [
    "service = 'object_manager/delete_ref_frame'\n",
    "\n",
    "command=f'ros2 service call '\\\n",
    "+ service + ' '\\\n",
    "'spawn_object_interfaces/srv/DeleteRefFrame '\\\n",
    "'\"{frame_name: '+ frame_name+'}\"'\n",
    "\n",
    "print(str(command))\n",
    "\n",
    "process = subprocess.Popen(command, shell=True)"
   ]
  },
  {
   "attachments": {},
   "cell_type": "markdown",
   "metadata": {},
   "source": [
    "Modify Pose"
   ]
  },
  {
   "cell_type": "code",
   "execution_count": 32,
   "metadata": {},
   "outputs": [
    {
     "name": "stdout",
     "output_type": "stream",
     "text": [
      "ros2 service call object_manager/modify_pose spawn_object_interfaces/srv/ModifyPose \"{frame_name: my_test_frame, rel_pose:{position: {x: -1.0, y: 2.0, z: 1.0}, orientation: {x: 0.0, y: 0.0, z: 0.0, w: 0.0}}}\"\n"
     ]
    },
    {
     "name": "stdout",
     "output_type": "stream",
     "text": [
      "waiting for service to become available...\n",
      "requester: making request: spawn_object_interfaces.srv.ModifyPose_Request(frame_name='my_test_frame', rel_pose=geometry_msgs.msg.Pose(position=geometry_msgs.msg.Point(x=-1.0, y=2.0, z=1.0), orientation=geometry_msgs.msg.Quaternion(x=0.0, y=0.0, z=0.0, w=0.0)))\n",
      "\n",
      "response:\n",
      "spawn_object_interfaces.srv.ModifyPose_Response(success=True)\n",
      "\n"
     ]
    }
   ],
   "source": [
    "service = 'object_manager/modify_pose'\n",
    "frame_name = 'my_test_frame'\n",
    "#frame_name = 'my_object_1'\n",
    "\n",
    "command=f'ros2 service call '\\\n",
    "+ service + ' '\\\n",
    "'spawn_object_interfaces/srv/ModifyPose '\\\n",
    "'\"{frame_name: '+ frame_name+', '\\\n",
    "'rel_pose:{position: {x: -1.0, y: 2.0, z: 1.0}, orientation: {x: 0.0, y: 0.0, z: 0.0, w: 0.0}}}\"'\\\n",
    "\n",
    "\n",
    "print(str(command))\n",
    "\n",
    "process = subprocess.Popen(command, shell=True)"
   ]
  },
  {
   "attachments": {},
   "cell_type": "markdown",
   "metadata": {},
   "source": [
    "Get Info"
   ]
  },
  {
   "cell_type": "code",
   "execution_count": 33,
   "metadata": {},
   "outputs": [
    {
     "name": "stdout",
     "output_type": "stream",
     "text": [
      "ros2 service call object_manager/get_info spawn_object_interfaces/srv/GetInfo\n",
      "obj_names: []\n",
      "ref_frame_names: ['my_test_frame']\n"
     ]
    }
   ],
   "source": [
    "service = 'object_manager/get_info'\n",
    "\n",
    "command=f'ros2 service call '\\\n",
    "+ service + ' '\\\n",
    "'spawn_object_interfaces/srv/GetInfo'\n",
    "\n",
    "print(str(command))\n",
    "\n",
    "process = subprocess.Popen(command, shell=True, stdout=subprocess.PIPE, stderr=subprocess.PIPE)\n",
    "\n",
    "output, error = process.communicate()\n",
    "# Decode the byte strings to regular strings (assuming UTF-8 encoding)\n",
    "output = output.decode('utf-8')\n",
    "error = error.decode('utf-8')\n",
    "\n",
    "# Find the index of the obj_names and ref_frame_names lists\n",
    "obj_names_start_index = output.find(\"obj_names=\")\n",
    "obj_names_end_index = output.find(\"]\", obj_names_start_index)\n",
    "ref_frame_names_start_index = output.find(\"ref_frame_names=\")\n",
    "ref_frame_names_end_index = output.find(\"]\", ref_frame_names_start_index)\n",
    "\n",
    "# Extract the obj_names and ref_frame_names lists\n",
    "obj_names_string = output[obj_names_start_index + len(\"obj_names=\") : obj_names_end_index + 1]\n",
    "ref_frame_names_string = output[ref_frame_names_start_index + len(\"ref_frame_names=\") : ref_frame_names_end_index + 1]\n",
    "\n",
    "# Evaluate the obj_names and ref_frame_names lists as Python lists\n",
    "obj_names = eval(obj_names_string)\n",
    "ref_frame_names = eval(ref_frame_names_string)\n",
    "\n",
    "# Print the obj_names and ref_frame_names lists\n",
    "print(\"obj_names:\", obj_names)\n",
    "print(\"ref_frame_names:\", ref_frame_names)"
   ]
  }
 ],
 "metadata": {
  "kernelspec": {
   "display_name": "Python 3",
   "language": "python",
   "name": "python3"
  },
  "language_info": {
   "codemirror_mode": {
    "name": "ipython",
    "version": 3
   },
   "file_extension": ".py",
   "mimetype": "text/x-python",
   "name": "python",
   "nbconvert_exporter": "python",
   "pygments_lexer": "ipython3",
   "version": "3.10.12"
  },
  "orig_nbformat": 4
 },
 "nbformat": 4,
 "nbformat_minor": 2
}
