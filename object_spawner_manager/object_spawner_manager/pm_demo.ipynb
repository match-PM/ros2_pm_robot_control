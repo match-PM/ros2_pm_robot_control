{
 "cells": [
  {
   "cell_type": "code",
   "execution_count": 1,
   "metadata": {},
   "outputs": [],
   "source": [
    "import subprocess\n",
    "\n",
    "def process_subprocess_ouput(subprocess_output):\n",
    "    output, error = subprocess_output.communicate()\n",
    "    # Decode the byte strings to regular strings (assuming UTF-8 encoding)\n",
    "    output = output.decode('utf-8')\n",
    "    print(output)\n",
    "    error = error.decode('utf-8')\n",
    "    start_index = output.find(\"success=\")\n",
    "    end_index = output.find(\")\", start_index)\n",
    "    success_string = output[start_index + len(\"success=\"):end_index]\n",
    "    success = bool(success_string)\n",
    "    return success\n",
    "\n",
    "cad_data = '//home/mll/pm_Server/01_PM_Zelle/03_PM_DataBase/Part_Data/S_UFC.STL'"
   ]
  },
  {
   "cell_type": "markdown",
   "metadata": {},
   "source": [
    "Spawn Object"
   ]
  },
  {
   "cell_type": "code",
   "execution_count": 53,
   "metadata": {},
   "outputs": [
    {
     "name": "stdout",
     "output_type": "stream",
     "text": [
      "ros2 service call /object_manager/spawn_object spawn_object_interfaces/srv/SpawnObject \"{obj_name: Siemens_UFC, parent_frame: Gonio_Right_Part_Origin , translation:[0.0,0.0,0.0], rotation:[0.0,0.0,0.0,1.0], cad_data: //home/mll/pm_Server/01_PM_Zelle/03_PM_DataBase/Part_Data/S_UFC.STL}\"\n"
     ]
    },
    {
     "name": "stdout",
     "output_type": "stream",
     "text": [
      "waiting for service to become available...\n",
      "requester: making request: spawn_object_interfaces.srv.SpawnObject_Request(obj_name='Siemens_UFC', parent_frame='Gonio_Right_Part_Origin', translation=array([0., 0., 0.], dtype=float32), rotation=array([0., 0., 0., 1.], dtype=float32), cad_data='//home/mll/pm_Server/01_PM_Zelle/03_PM_DataBase/Part_Data/S_UFC.STL')\n",
      "\n",
      "response:\n",
      "spawn_object_interfaces.srv.SpawnObject_Response(success=True)\n",
      "\n"
     ]
    }
   ],
   "source": [
    "service = '/object_manager/spawn_object'\n",
    "object_name = 'Siemens_UFC'\n",
    "parent_frame='Gonio_Right_Part_Origin'\n",
    "\n",
    "command=f'ros2 service call '\\\n",
    "+ service + ' '\\\n",
    "'spawn_object_interfaces/srv/SpawnObject '\\\n",
    "'\"{obj_name: '+object_name+', '\\\n",
    "'parent_frame: '+ parent_frame +' , '\\\n",
    "'translation:[0.0,0.0,0.0], '\\\n",
    "'rotation:[0.0,0.0,0.0,1.0], '\\\n",
    "'cad_data: '+cad_data+'}\"'\n",
    "\n",
    "print(str(command))\n",
    "\n",
    "process = subprocess.Popen(command, shell=True)"
   ]
  },
  {
   "cell_type": "markdown",
   "metadata": {},
   "source": [
    "Create Ref Frame 1"
   ]
  },
  {
   "cell_type": "code",
   "execution_count": 54,
   "metadata": {},
   "outputs": [
    {
     "name": "stdout",
     "output_type": "stream",
     "text": [
      "ros2 service call object_manager/create_ref_frame spawn_object_interfaces/srv/CreateRefFrame \"{frame_name: Ref_Frame_1, parent_frame: Siemens_UFC , pose:{position: {x: -0.0351, y: -0.02186, z: 0.002359}, orientation: {x: 0.0, y: 0.0, z: 0.0, w: 1.0}}}\"\n"
     ]
    },
    {
     "name": "stdout",
     "output_type": "stream",
     "text": [
      "requester: making request: spawn_object_interfaces.srv.CreateRefFrame_Request(frame_name='Ref_Frame_1', parent_frame='Siemens_UFC', pose=geometry_msgs.msg.Pose(position=geometry_msgs.msg.Point(x=-0.0351, y=-0.02186, z=0.002359), orientation=geometry_msgs.msg.Quaternion(x=0.0, y=0.0, z=0.0, w=1.0)))\n",
      "\n",
      "response:\n",
      "spawn_object_interfaces.srv.CreateRefFrame_Response(success=True)\n",
      "\n"
     ]
    }
   ],
   "source": [
    "service = 'object_manager/create_ref_frame'\n",
    "frame_name = 'Ref_Frame_1'\n",
    "parent_frame = 'Siemens_UFC'\n",
    "\n",
    "command=f'ros2 service call '\\\n",
    "+ service + ' '\\\n",
    "'spawn_object_interfaces/srv/CreateRefFrame '\\\n",
    "'\"{frame_name: '+ frame_name+', '\\\n",
    "'parent_frame: '+ parent_frame +' , '\\\n",
    "'pose:{position: {x: -0.0351, y: -0.02186, z: 0.00235}, orientation: {x: 0.0, y: 0.0, z: 0.0, w: 1.0}}}\"'\\\n",
    "\n",
    "print(str(command))\n",
    "\n",
    "process = subprocess.Popen(command, shell=True)"
   ]
  },
  {
   "cell_type": "markdown",
   "metadata": {},
   "source": [
    "Create Ref Frame 2"
   ]
  },
  {
   "cell_type": "code",
   "execution_count": 55,
   "metadata": {},
   "outputs": [
    {
     "name": "stdout",
     "output_type": "stream",
     "text": [
      "ros2 service call object_manager/create_ref_frame spawn_object_interfaces/srv/CreateRefFrame \"{frame_name: Ref_Frame_2, parent_frame: Siemens_UFC , pose:{position: {x: -0.0351, y: 0.0, z: 0.002359}, orientation: {x: 0.0, y: 0.0, z: 0.0, w: 1.0}}}\"\n"
     ]
    },
    {
     "name": "stdout",
     "output_type": "stream",
     "text": [
      "waiting for service to become available...\n",
      "requester: making request: spawn_object_interfaces.srv.CreateRefFrame_Request(frame_name='Ref_Frame_2', parent_frame='Siemens_UFC', pose=geometry_msgs.msg.Pose(position=geometry_msgs.msg.Point(x=-0.0351, y=0.0, z=0.002359), orientation=geometry_msgs.msg.Quaternion(x=0.0, y=0.0, z=0.0, w=1.0)))\n",
      "\n",
      "response:\n",
      "spawn_object_interfaces.srv.CreateRefFrame_Response(success=True)\n",
      "\n"
     ]
    }
   ],
   "source": [
    "service = 'object_manager/create_ref_frame'\n",
    "frame_name = 'Ref_Frame_2'\n",
    "parent_frame = 'Siemens_UFC'\n",
    "\n",
    "command=f'ros2 service call '\\\n",
    "+ service + ' '\\\n",
    "'spawn_object_interfaces/srv/CreateRefFrame '\\\n",
    "'\"{frame_name: '+ frame_name+', '\\\n",
    "'parent_frame: '+ parent_frame +' , '\\\n",
    "'pose:{position: {x: -0.0351, y: 0.0, z: 0.00235}, orientation: {x: 0.0, y: 0.0, z: 0.0, w: 1.0}}}\"'\\\n",
    "\n",
    "print(str(command))\n",
    "\n",
    "process = subprocess.Popen(command, shell=True)"
   ]
  },
  {
   "cell_type": "markdown",
   "metadata": {},
   "source": [
    "Create Ref Frame 3"
   ]
  },
  {
   "cell_type": "code",
   "execution_count": 56,
   "metadata": {},
   "outputs": [
    {
     "name": "stdout",
     "output_type": "stream",
     "text": [
      "ros2 service call object_manager/create_ref_frame spawn_object_interfaces/srv/CreateRefFrame \"{frame_name: Ref_Frame_3, parent_frame: Siemens_UFC , pose:{position: {x: 0.0, y: 0.0, z: 0.002359}, orientation: {x: 0.0, y: 0.0, z: 0.0, w: 1.0}}}\"\n"
     ]
    },
    {
     "name": "stdout",
     "output_type": "stream",
     "text": [
      "waiting for service to become available...\n",
      "requester: making request: spawn_object_interfaces.srv.CreateRefFrame_Request(frame_name='Ref_Frame_3', parent_frame='Siemens_UFC', pose=geometry_msgs.msg.Pose(position=geometry_msgs.msg.Point(x=0.0, y=0.0, z=0.002359), orientation=geometry_msgs.msg.Quaternion(x=0.0, y=0.0, z=0.0, w=1.0)))\n",
      "\n",
      "response:\n",
      "spawn_object_interfaces.srv.CreateRefFrame_Response(success=True)\n",
      "\n"
     ]
    }
   ],
   "source": [
    "service = 'object_manager/create_ref_frame'\n",
    "frame_name = 'Ref_Frame_3'\n",
    "parent_frame = 'Siemens_UFC'\n",
    "\n",
    "command=f'ros2 service call '\\\n",
    "+ service + ' '\\\n",
    "'spawn_object_interfaces/srv/CreateRefFrame '\\\n",
    "'\"{frame_name: '+ frame_name+', '\\\n",
    "'parent_frame: '+ parent_frame +' , '\\\n",
    "'pose:{position: {x: 0.0, y: 0.0, z: 0.00235}, orientation: {x: 0.0, y: 0.0, z: 0.0, w: 1.0}}}\"'\\\n",
    "\n",
    "\n",
    "print(str(command))\n",
    "\n",
    "process = subprocess.Popen(command, shell=True)"
   ]
  },
  {
   "cell_type": "markdown",
   "metadata": {},
   "source": [
    "Create Ref Frame 4"
   ]
  },
  {
   "cell_type": "code",
   "execution_count": 57,
   "metadata": {},
   "outputs": [
    {
     "name": "stdout",
     "output_type": "stream",
     "text": [
      "ros2 service call object_manager/create_ref_frame spawn_object_interfaces/srv/CreateRefFrame \"{frame_name: Ref_Frame_4, parent_frame: Siemens_UFC , pose:{position: {x: 0.0, y: -0.02186, z: 0.002359}, orientation: {x: 0.0, y: 0.0, z: 0.0, w: 1.0}}}\"\n"
     ]
    },
    {
     "name": "stdout",
     "output_type": "stream",
     "text": [
      "requester: making request: spawn_object_interfaces.srv.CreateRefFrame_Request(frame_name='Ref_Frame_4', parent_frame='Siemens_UFC', pose=geometry_msgs.msg.Pose(position=geometry_msgs.msg.Point(x=0.0, y=-0.02186, z=0.002359), orientation=geometry_msgs.msg.Quaternion(x=0.0, y=0.0, z=0.0, w=1.0)))\n",
      "\n",
      "response:\n",
      "spawn_object_interfaces.srv.CreateRefFrame_Response(success=True)\n",
      "\n"
     ]
    }
   ],
   "source": [
    "service = 'object_manager/create_ref_frame'\n",
    "frame_name = 'Ref_Frame_4'\n",
    "parent_frame = 'Siemens_UFC'\n",
    "\n",
    "command=f'ros2 service call '\\\n",
    "+ service + ' '\\\n",
    "'spawn_object_interfaces/srv/CreateRefFrame '\\\n",
    "'\"{frame_name: '+ frame_name+', '\\\n",
    "'parent_frame: '+ parent_frame +' , '\\\n",
    "'pose:{position: {x: 0.0, y: -0.02186, z: 0.00235}, orientation: {x: 0.0, y: 0.0, z: 0.0, w: 1.0}}}\"'\\\n",
    "\n",
    "\n",
    "print(str(command))\n",
    "\n",
    "process = subprocess.Popen(command, shell=True)"
   ]
  },
  {
   "cell_type": "markdown",
   "metadata": {},
   "source": [
    "Create Ref Frame 5"
   ]
  },
  {
   "cell_type": "code",
   "execution_count": 58,
   "metadata": {},
   "outputs": [
    {
     "name": "stdout",
     "output_type": "stream",
     "text": [
      "ros2 service call object_manager/create_ref_frame spawn_object_interfaces/srv/CreateRefFrame \"{frame_name: Ref_Frame_5, parent_frame: Siemens_UFC , pose:{position: {x: -0.01755, y: -0.01093, z: 0.002359}, orientation: {x: 0.0, y: 0.0, z: 0.0, w: 1.0}}}\"\n"
     ]
    },
    {
     "name": "stdout",
     "output_type": "stream",
     "text": [
      "waiting for service to become available...\n",
      "requester: making request: spawn_object_interfaces.srv.CreateRefFrame_Request(frame_name='Ref_Frame_5', parent_frame='Siemens_UFC', pose=geometry_msgs.msg.Pose(position=geometry_msgs.msg.Point(x=-0.01755, y=-0.01093, z=0.002359), orientation=geometry_msgs.msg.Quaternion(x=0.0, y=0.0, z=0.0, w=1.0)))\n",
      "\n",
      "response:\n",
      "spawn_object_interfaces.srv.CreateRefFrame_Response(success=True)\n",
      "\n"
     ]
    }
   ],
   "source": [
    "service = 'object_manager/create_ref_frame'\n",
    "frame_name = 'Ref_Frame_5'\n",
    "parent_frame = 'Siemens_UFC'\n",
    "\n",
    "command=f'ros2 service call '\\\n",
    "+ service + ' '\\\n",
    "'spawn_object_interfaces/srv/CreateRefFrame '\\\n",
    "'\"{frame_name: '+ frame_name+', '\\\n",
    "'parent_frame: '+ parent_frame +' , '\\\n",
    "'pose:{position: {x: -0.01755, y: -0.01093, z: 0.00235}, orientation: {x: 0.0, y: 0.0, z: 0.0, w: 1.0}}}\"'\\\n",
    "\n",
    "\n",
    "print(str(command))\n",
    "\n",
    "process = subprocess.Popen(command, shell=True)"
   ]
  },
  {
   "cell_type": "markdown",
   "metadata": {},
   "source": [
    "Move Laser To Frame 1"
   ]
  },
  {
   "cell_type": "code",
   "execution_count": 71,
   "metadata": {},
   "outputs": [
    {
     "name": "stdout",
     "output_type": "stream",
     "text": [
      "ros2 service call /pm_moveit_server/move_laser_to_frame  pm_moveit_interfaces/srv/MoveLaserTcpTo \"{frame_name: Ref_Frame_1, translation: {x: 0.0, y: 0.0, z: 0.001}, exec_wait_for_user_input: false, execute: true }\"\n"
     ]
    },
    {
     "name": "stdout",
     "output_type": "stream",
     "text": [
      "waiting for service to become available...\n",
      "requester: making request: pm_moveit_interfaces.srv.MoveLaserTcpTo_Request(frame_name='Ref_Frame_1', move_to_pose=geometry_msgs.msg.Pose(position=geometry_msgs.msg.Point(x=0.0, y=0.0, z=0.0), orientation=geometry_msgs.msg.Quaternion(x=0.0, y=0.0, z=0.0, w=1.0)), translation=geometry_msgs.msg.Vector3(x=0.0, y=0.0, z=0.001), exec_wait_for_user_input=False, execute=True)\n",
      "\n",
      "response:\n",
      "pm_moveit_interfaces.srv.MoveLaserTcpTo_Response(success=True, joint_names=['X_Axis_Joint', 'Y_Axis_Joint', 'Z_Axis_Joint'], joint_values=[-0.17209894955158234, -0.03303252533078194, 0.024441000074148178])\n",
      "\n"
     ]
    }
   ],
   "source": [
    "service = '/pm_moveit_server/move_laser_to_frame '\n",
    "frame_name = 'Ref_Frame_1'\n",
    "\n",
    "command=f'ros2 service call '\\\n",
    "+ service + ' '\\\n",
    "'pm_moveit_interfaces/srv/MoveLaserTcpTo'\\\n",
    "' \"{frame_name: '+ frame_name+', '\\\n",
    "'translation: {x: 0.0, y: 0.0, z: 0.001}, '\\\n",
    "'exec_wait_for_user_input: false, '\\\n",
    "'execute: true }\"'\n",
    "\n",
    "print(str(command))\n",
    "\n",
    "process = subprocess.Popen(command, shell=True)\n"
   ]
  },
  {
   "cell_type": "markdown",
   "metadata": {},
   "source": [
    "Move Laser To Frame 2"
   ]
  },
  {
   "cell_type": "code",
   "execution_count": 14,
   "metadata": {},
   "outputs": [
    {
     "name": "stdout",
     "output_type": "stream",
     "text": [
      "ros2 service call /pm_moveit_server/move_laser_to_frame  pm_moveit_interfaces/srv/MoveLaserTcpTo \"{frame_name: Siemens_UFC, exec_wait_for_user_input: false, execute: true }\"\n"
     ]
    },
    {
     "name": "stdout",
     "output_type": "stream",
     "text": [
      "requester: making request: pm_moveit_interfaces.srv.MoveLaserTcpTo_Request(frame_name='Siemens_UFC', move_to_pose=geometry_msgs.msg.Pose(position=geometry_msgs.msg.Point(x=0.0, y=0.0, z=0.0), orientation=geometry_msgs.msg.Quaternion(x=0.0, y=0.0, z=0.0, w=1.0)), translation=geometry_msgs.msg.Vector3(x=0.0, y=0.0, z=0.0), exec_wait_for_user_input=False, execute=True)\n",
      "\n",
      "response:\n",
      "pm_moveit_interfaces.srv.MoveLaserTcpTo_Response(success=False, joint_names=['X_Axis_Joint', 'Y_Axis_Joint', 'Z_Axis_Joint'], joint_values=[-0.1369989514350891, -0.011172526516020298, 0.027800001204013824])\n",
      "\n"
     ]
    }
   ],
   "source": [
    "service = '/pm_moveit_server/move_laser_to_frame '\n",
    "frame_name = 'Ref_Frame_2'\n",
    "\n",
    "command=f'ros2 service call '\\\n",
    "+ service + ' '\\\n",
    "'pm_moveit_interfaces/srv/MoveLaserTcpTo'\\\n",
    "' \"{frame_name: '+ frame_name+', '\\\n",
    "'translation: {x: 0.0, y: 0.0, z: 0.001}, '\\\n",
    "'exec_wait_for_user_input: false, '\\\n",
    "'execute: true }\"'\n",
    "\n",
    "print(str(command))\n",
    "\n",
    "process = subprocess.Popen(command, shell=True)\n"
   ]
  },
  {
   "cell_type": "markdown",
   "metadata": {},
   "source": [
    "Move Laser To Frame 3"
   ]
  },
  {
   "cell_type": "code",
   "execution_count": 44,
   "metadata": {},
   "outputs": [
    {
     "name": "stdout",
     "output_type": "stream",
     "text": [
      "ros2 service call /pm_moveit_server/move_laser_to_frame  pm_moveit_interfaces/srv/MoveLaserTcpTo \"{frame_name: Ref_Frame_3, exec_wait_for_user_input: false, execute: true }\"\n"
     ]
    },
    {
     "name": "stdout",
     "output_type": "stream",
     "text": [
      "waiting for service to become available...\n",
      "requester: making request: pm_moveit_interfaces.srv.MoveLaserTcpTo_Request(frame_name='Ref_Frame_3', move_to_pose=geometry_msgs.msg.Pose(position=geometry_msgs.msg.Point(x=0.0, y=0.0, z=0.0), orientation=geometry_msgs.msg.Quaternion(x=0.0, y=0.0, z=0.0, w=1.0)), translation=geometry_msgs.msg.Vector3(x=0.0, y=0.0, z=0.0), exec_wait_for_user_input=False, execute=True)\n",
      "\n",
      "response:\n",
      "pm_moveit_interfaces.srv.MoveLaserTcpTo_Response(success=False, joint_names=['X_Axis_Joint', 'Y_Axis_Joint', 'Z_Axis_Joint'], joint_values=[-0.1369989514350891, -0.011172526516020298, 0.02544100023806095])\n",
      "\n"
     ]
    }
   ],
   "source": [
    "service = '/pm_moveit_server/move_laser_to_frame '\n",
    "frame_name = 'Ref_Frame_3'\n",
    "\n",
    "command=f'ros2 service call '\\\n",
    "+ service + ' '\\\n",
    "'pm_moveit_interfaces/srv/MoveLaserTcpTo'\\\n",
    "' \"{frame_name: '+ frame_name+', '\\\n",
    "'translation: {x: 0.0, y: 0.0, z: 0.001}, '\\\n",
    "'exec_wait_for_user_input: false, '\\\n",
    "'execute: true }\"'\n",
    "\n",
    "print(str(command))\n",
    "\n",
    "process = subprocess.Popen(command, shell=True)\n"
   ]
  },
  {
   "cell_type": "markdown",
   "metadata": {},
   "source": [
    "Move Laser To Frame 4"
   ]
  },
  {
   "cell_type": "code",
   "execution_count": null,
   "metadata": {},
   "outputs": [],
   "source": [
    "service = '/pm_moveit_server/move_laser_to_frame '\n",
    "frame_name = 'Ref_Frame_4'\n",
    "\n",
    "command=f'ros2 service call '\\\n",
    "+ service + ' '\\\n",
    "'pm_moveit_interfaces/srv/MoveLaserTcpTo'\\\n",
    "' \"{frame_name: '+ frame_name+', '\\\n",
    "'translation: {x: 0.0, y: 0.0, z: 0.001}, '\\\n",
    "'exec_wait_for_user_input: false, '\\\n",
    "'execute: true }\"'\n",
    "\n",
    "print(str(command))\n",
    "\n",
    "process = subprocess.Popen(command, shell=True)\n"
   ]
  },
  {
   "cell_type": "markdown",
   "metadata": {},
   "source": [
    "Move Gripper To Frame 5 - Z_Offset"
   ]
  },
  {
   "cell_type": "code",
   "execution_count": 72,
   "metadata": {},
   "outputs": [
    {
     "name": "stdout",
     "output_type": "stream",
     "text": [
      "ros2 service call /pm_moveit_server/move_tool_to_frame  pm_moveit_interfaces/srv/MoveToolTcpTo \"{frame_name: Ref_Frame_5, translation: {x: 0.0, y: 0.0, z: 0.001}, exec_wait_for_user_input: false, execute: true }\"\n"
     ]
    },
    {
     "name": "stdout",
     "output_type": "stream",
     "text": [
      "waiting for service to become available...\n",
      "requester: making request: pm_moveit_interfaces.srv.MoveToolTcpTo_Request(frame_name='Ref_Frame_5', move_to_pose=geometry_msgs.msg.Pose(position=geometry_msgs.msg.Point(x=0.0, y=0.0, z=0.0), orientation=geometry_msgs.msg.Quaternion(x=0.0, y=0.0, z=0.0, w=1.0)), translation=geometry_msgs.msg.Vector3(x=0.0, y=0.0, z=0.001), exec_wait_for_user_input=False, execute=True)\n",
      "\n",
      "response:\n",
      "pm_moveit_interfaces.srv.MoveToolTcpTo_Response(success=True, joint_names=['X_Axis_Joint', 'Y_Axis_Joint', 'Z_Axis_Joint', 'T_Axis_Joint'], joint_values=[-0.06705000251531601, -0.05410249903798103, 0.01102100033313036, 0.0])\n",
      "\n"
     ]
    }
   ],
   "source": [
    "service = '/pm_moveit_server/move_tool_to_frame '\n",
    "frame_name = 'Ref_Frame_5'\n",
    "\n",
    "command=f'ros2 service call '\\\n",
    "+ service + ' '\\\n",
    "'pm_moveit_interfaces/srv/MoveToolTcpTo'\\\n",
    "' \"{frame_name: '+ frame_name+', '\\\n",
    "'translation: {x: 0.0, y: 0.0, z: 0.01}, '\\\n",
    "'exec_wait_for_user_input: false, '\\\n",
    "'execute: true }\"'\n",
    "\n",
    "print(str(command))\n",
    "\n",
    "process = subprocess.Popen(command, shell=True)\n"
   ]
  },
  {
   "cell_type": "markdown",
   "metadata": {},
   "source": [
    "Move Gripper To Frame 5 "
   ]
  },
  {
   "cell_type": "code",
   "execution_count": null,
   "metadata": {},
   "outputs": [
    {
     "name": "stdout",
     "output_type": "stream",
     "text": [
      "ros2 service call /pm_moveit_server/move_tool_to_frame  pm_moveit_interfaces/srv/MoveToolTcpTo \"{frame_name: Ref_Frame_5, translation: {x: 0.0, y: 0.0, z: 0.001}, exec_wait_for_user_input: false, execute: true }\"\n"
     ]
    },
    {
     "name": "stdout",
     "output_type": "stream",
     "text": [
      "waiting for service to become available...\n",
      "requester: making request: pm_moveit_interfaces.srv.MoveToolTcpTo_Request(frame_name='Ref_Frame_5', move_to_pose=geometry_msgs.msg.Pose(position=geometry_msgs.msg.Point(x=0.0, y=0.0, z=0.0), orientation=geometry_msgs.msg.Quaternion(x=0.0, y=0.0, z=0.0, w=1.0)), translation=geometry_msgs.msg.Vector3(x=0.0, y=0.0, z=0.001), exec_wait_for_user_input=False, execute=True)\n",
      "\n",
      "response:\n",
      "pm_moveit_interfaces.srv.MoveToolTcpTo_Response(success=True, joint_names=['X_Axis_Joint', 'Y_Axis_Joint', 'Z_Axis_Joint', 'T_Axis_Joint'], joint_values=[-0.06705000251531601, -0.05410249903798103, 0.01102100033313036, 0.0])\n",
      "\n"
     ]
    }
   ],
   "source": [
    "service = '/pm_moveit_server/move_tool_to_frame '\n",
    "frame_name = 'Ref_Frame_5'\n",
    "\n",
    "command=f'ros2 service call '\\\n",
    "+ service + ' '\\\n",
    "'pm_moveit_interfaces/srv/MoveToolTcpTo'\\\n",
    "' \"{frame_name: '+ frame_name+', '\\\n",
    "'translation: {x: 0.0, y: 0.0, z: 0.001}, '\\\n",
    "'exec_wait_for_user_input: false, '\\\n",
    "'execute: true }\"'\n",
    "\n",
    "print(str(command))\n",
    "\n",
    "process = subprocess.Popen(command, shell=True)\n"
   ]
  },
  {
   "cell_type": "markdown",
   "metadata": {},
   "source": [
    "Grip Part"
   ]
  },
  {
   "cell_type": "code",
   "execution_count": null,
   "metadata": {},
   "outputs": [],
   "source": [
    "service = '/object_manager/change_obj_parent_frame'\n",
    "object_name = \"Siemens_UFC\"\n",
    "new_parent_frame = 'PM_Robot_Tool_TCP'\n",
    "command=f'ros2 service call '\\\n",
    "+ service + ' '\\\n",
    "'spawn_object_interfaces/srv/ChangeParentFrame '\\\n",
    "'\"{obj_name: '+ object_name+', '\\\n",
    "'parent_frame: '+ new_parent_frame+'}\"'\n",
    "\n",
    "print(str(command))\n",
    "\n",
    "process = subprocess.Popen(command, shell=True)"
   ]
  },
  {
   "cell_type": "markdown",
   "metadata": {},
   "source": [
    "Move Gripper To Frame 5"
   ]
  },
  {
   "cell_type": "code",
   "execution_count": 40,
   "metadata": {},
   "outputs": [
    {
     "name": "stdout",
     "output_type": "stream",
     "text": [
      "ros2 service call /pm_moveit_server/move_tool_to_frame  pm_moveit_interfaces/srv/MoveToolTcpTo \"{frame_name: Gonio_Right_Chuck_Origin, translation: {x: 0.0, y: 0.0, z: 0.1}, exec_wait_for_user_input: false, execute: true }\"\n"
     ]
    },
    {
     "name": "stdout",
     "output_type": "stream",
     "text": [
      "requester: making request: pm_moveit_interfaces.srv.MoveToolTcpTo_Request(frame_name='Gonio_Right_Chuck_Origin', move_to_pose=geometry_msgs.msg.Pose(position=geometry_msgs.msg.Point(x=0.0, y=0.0, z=0.0), orientation=geometry_msgs.msg.Quaternion(x=0.0, y=0.0, z=0.0, w=1.0)), translation=geometry_msgs.msg.Vector3(x=0.0, y=0.0, z=0.1), exec_wait_for_user_input=False, execute=True)\n",
      "\n",
      "response:\n",
      "pm_moveit_interfaces.srv.MoveToolTcpTo_Response(success=True, joint_names=['X_Axis_Joint', 'Y_Axis_Joint', 'Z_Axis_Joint', 'T_Axis_Joint'], joint_values=[-0.06700000166893005, -0.05342249944806099, -0.022120000794529915, 0.0])\n",
      "\n"
     ]
    }
   ],
   "source": [
    "service = '/pm_moveit_server/move_tool_to_frame '\n",
    "frame_name = 'Gonio_Right_Chuck_Origin'\n",
    "\n",
    "command=f'ros2 service call '\\\n",
    "+ service + ' '\\\n",
    "'pm_moveit_interfaces/srv/MoveToolTcpTo'\\\n",
    "' \"{frame_name: '+ frame_name+', '\\\n",
    "'translation: {x: 0.0, y: 0.0, z: 0.1}, '\\\n",
    "'exec_wait_for_user_input: false, '\\\n",
    "'execute: true }\"'\n",
    "\n",
    "print(str(command))\n",
    "\n",
    "process = subprocess.Popen(command, shell=True)"
   ]
  },
  {
   "cell_type": "markdown",
   "metadata": {},
   "source": [
    "Destroy Object"
   ]
  },
  {
   "cell_type": "code",
   "execution_count": 3,
   "metadata": {},
   "outputs": [
    {
     "name": "stdout",
     "output_type": "stream",
     "text": [
      "ros2 service call /object_manager/destroy_object spawn_object_interfaces/srv/DestroyObject \"{obj_name: Siemens_UFC}\"\n"
     ]
    },
    {
     "name": "stdout",
     "output_type": "stream",
     "text": [
      "requester: making request: spawn_object_interfaces.srv.DestroyObject_Request(obj_name='Siemens_UFC')\n",
      "\n"
     ]
    }
   ],
   "source": [
    "#service = '/object_publisher/destroy_object'\n",
    "service = '/object_manager/destroy_object'\n",
    "\n",
    "object_name = 'Siemens_UFC'\n",
    "\n",
    "command=f'ros2 service call '\\\n",
    "+ service + ' '\\\n",
    "'spawn_object_interfaces/srv/DestroyObject '\\\n",
    "'\"{obj_name: '+object_name+'}\"'\n",
    "\n",
    "print(str(command))\n",
    "\n",
    "process = subprocess.Popen(command, shell=True)"
   ]
  },
  {
   "cell_type": "markdown",
   "metadata": {},
   "source": [
    "Relative Movement"
   ]
  },
  {
   "cell_type": "code",
   "execution_count": 21,
   "metadata": {},
   "outputs": [
    {
     "name": "stdout",
     "output_type": "stream",
     "text": [
      "ros2 service call /pm_moveit_server/move_tool_to_frame  pm_moveit_interfaces/srv/MoveToolTcpTo \"{translation: {x: +0.01, y: 0.0, z: +0.01},  rotation:{x:0.0 ,y: 0.0, z: 1.0, w: 0.0},execute: true }\"\n"
     ]
    },
    {
     "name": "stderr",
     "output_type": "stream",
     "text": [
      "Failed to populate field: 'Quaternion' object has no attribute 'x:0.0'\n"
     ]
    }
   ],
   "source": [
    "service = '/pm_moveit_server/move_tool_to_frame '\n",
    "frame_name = 'Gonio_Right_Chuck_Origin'\n",
    "\n",
    "command=f'ros2 service call '\\\n",
    "+ service + ' '\\\n",
    "'pm_moveit_interfaces/srv/MoveToolTcpTo'\\\n",
    "' \"{translation: {x: +0.01, y: 0.0, z: +0.01}, '\\\n",
    "' rotation:{x: 0.0 ,y: 0.0, z: 1.0, w: 0.0},'\\\n",
    "'execute: true }\"'\n",
    "\n",
    "print(str(command))\n",
    "\n",
    "process = subprocess.Popen(command, shell=True)"
   ]
  }
 ],
 "metadata": {
  "kernelspec": {
   "display_name": "Python 3",
   "language": "python",
   "name": "python3"
  },
  "language_info": {
   "codemirror_mode": {
    "name": "ipython",
    "version": 3
   },
   "file_extension": ".py",
   "mimetype": "text/x-python",
   "name": "python",
   "nbconvert_exporter": "python",
   "pygments_lexer": "ipython3",
   "version": "3.10.12"
  },
  "orig_nbformat": 4
 },
 "nbformat": 4,
 "nbformat_minor": 2
}
